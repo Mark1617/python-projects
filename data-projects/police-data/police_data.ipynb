{
 "cells": [
  {
   "attachments": {},
   "cell_type": "markdown",
   "metadata": {},
   "source": [
    "# Creating a Police Database\n",
    "\n",
    "##### Using the Police UK API (Home | data.police.uk), extract the data related to street-level crime and outcome data as well as the nearest police stations. Create a single database that will contain all the street level crime and outcome data with the nearest police station that have investigated the crimes and remove all the data that have a missing outcome while highlighting which authorities do not provide an outcome."
   ]
  },
  {
   "attachments": {},
   "cell_type": "markdown",
   "metadata": {},
   "source": [
    "## Loading the Data\n",
    "\n",
    "##### Here I will need to use the .get() function to retrieve the data from the API. Reading through the documentation I have found that the data is kept in a JSON format, so I expect to use the requests module to send HTTP requests and the json library to work with the data. "
   ]
  },
  {
   "cell_type": "code",
   "execution_count": 1,
   "metadata": {},
   "outputs": [
    {
     "name": "stdout",
     "output_type": "stream",
     "text": [
      "400\n",
      "404\n"
     ]
    }
   ],
   "source": [
    "import requests \n",
    "import json\n",
    "\n",
    "crimes_API = requests.get('https://data.police.uk/api/crimes-street/all-crime')\n",
    "test_API = requests.get('https://data.police.uk/api/crimes-street/all-crime?lat=52.629729&lng=-1.131592&date=2017-01')\n",
    "print(crimes_API.status_code)\n",
    "print(test_API.status_code)"
   ]
  },
  {
   "attachments": {},
   "cell_type": "markdown",
   "metadata": {},
   "source": [
    "#### The error code 400 either means that there was a bad request, or according to the documentation that the request length is over 4094 characters (which it is not). So I have tried using the example request also, and this has thrown a 404 not found error, the same result given when I tried the link in-browser. I need to try some testing to see if other methods or endpoints to see if I can retrieve what I need another way."
   ]
  },
  {
   "cell_type": "code",
   "execution_count": 2,
   "metadata": {},
   "outputs": [
    {
     "name": "stdout",
     "output_type": "stream",
     "text": [
      "                  id                            name\n",
      "0  avon-and-somerset  Avon and Somerset Constabulary\n",
      "1       bedfordshire             Bedfordshire Police\n",
      "2     cambridgeshire     Cambridgeshire Constabulary\n",
      "3           cheshire           Cheshire Constabulary\n",
      "4     city-of-london           City of London Police \n",
      "\n",
      "\n",
      "                     url                       name\n",
      "0              all-crime                  All crime\n",
      "1  anti-social-behaviour      Anti-social behaviour\n",
      "2          bicycle-theft              Bicycle theft\n",
      "3               burglary                   Burglary\n",
      "4  criminal-damage-arson  Criminal damage and arson\n"
     ]
    }
   ],
   "source": [
    "import pandas as pd \n",
    "\n",
    "forces = pd.read_json('https://data.police.uk/api/forces')\n",
    "crime_cat = pd.read_json('https://data.police.uk/api/crime-categories')\n",
    "\n",
    "cat_exts = crime_cat['url']\n",
    "\n",
    "# crime_data = pd.read_json('https://data.police.uk/api/crimes-street/burglary') this did not work, implying I cannot retrieve any street-crime data\n",
    "\n",
    "print(forces.head(), '\\n\\n') # print the first 5 forces and a couple of empty lines\n",
    "print(crime_cat.head()) # print the first 5 crime categories\n"
   ]
  },
  {
   "attachments": {},
   "cell_type": "markdown",
   "metadata": {},
   "source": [
    "#### Some endpoints still work, but not the main one I need. Other options are finding a different API to use, this would be the best option but I have been told specifically to use this API, or download the data and use it locally. To overcome this roadblock I will download the required data locally and continue.\n",
    "\n",
    "#### After downloading the criminal data and investigating, I will begin combining the data into one large database."
   ]
  },
  {
   "cell_type": "code",
   "execution_count": 3,
   "metadata": {},
   "outputs": [],
   "source": [
    "import os\n",
    "rootdir = 'Crime Data'\n",
    "\n",
    "outcome_paths = [] # I will keep all of the file paths for the outcome data here\n",
    "crime_paths = [] # I will keep all the paths for the main crime data here\n",
    "\n",
    "# Here I need to loop through all the date folder and within them, the location files for both\n",
    "# outcome and crime data. \n",
    "for subdir, dirs, files in os.walk(rootdir):\n",
    "    for file in files:\n",
    "        if file.endswith('outcomes.csv'): # identify outcome files\n",
    "            outcome_paths.append('Crime Data' + '/' + file[:7] + '/' + file)\n",
    "        elif file.endswith('street.csv'): # identify main files\n",
    "            crime_paths.append('Crime Data' + '/' + file[:7] + '/' + file)\n",
    "        else:\n",
    "            continue\n",
    "\n",
    "# Now to use the lists with all the paths in them to create two data frames.\n",
    "outcome_df = pd.concat(map(pd.read_csv, outcome_paths), ignore_index=True) # map the read_csv fnc to paths\n",
    "crime_df = pd.concat(map(pd.read_csv, crime_paths), ignore_index=True)\n",
    "            "
   ]
  },
  {
   "attachments": {},
   "cell_type": "markdown",
   "metadata": {},
   "source": [
    "#### I have loaded the data and separated it into the outcome and main crime data. Now to do some initial analysis and decide what I need in my final database to avoid repeated information, duplicates and irrelevant data to the task."
   ]
  },
  {
   "cell_type": "code",
   "execution_count": 4,
   "metadata": {},
   "outputs": [
    {
     "name": "stdout",
     "output_type": "stream",
     "text": [
      "Outcome Information \n",
      "\n",
      "<class 'pandas.core.frame.DataFrame'>\n",
      "RangeIndex: 13177233 entries, 0 to 13177232\n",
      "Data columns (total 10 columns):\n",
      " #   Column        Dtype  \n",
      "---  ------        -----  \n",
      " 0   Crime ID      object \n",
      " 1   Month         object \n",
      " 2   Reported by   object \n",
      " 3   Falls within  object \n",
      " 4   Longitude     float64\n",
      " 5   Latitude      float64\n",
      " 6   Location      object \n",
      " 7   LSOA code     object \n",
      " 8   LSOA name     object \n",
      " 9   Outcome type  object \n",
      "dtypes: float64(2), object(8)\n",
      "memory usage: 1005.3+ MB\n",
      "None\n"
     ]
    }
   ],
   "source": [
    "print('Outcome Information', '\\n')\n",
    "print(outcome_df.info())"
   ]
  },
  {
   "cell_type": "code",
   "execution_count": 5,
   "metadata": {},
   "outputs": [
    {
     "name": "stdout",
     "output_type": "stream",
     "text": [
      "Crime Information \n",
      "\n",
      "<class 'pandas.core.frame.DataFrame'>\n",
      "RangeIndex: 18899067 entries, 0 to 18899066\n",
      "Data columns (total 12 columns):\n",
      " #   Column                 Dtype  \n",
      "---  ------                 -----  \n",
      " 0   Crime ID               object \n",
      " 1   Month                  object \n",
      " 2   Reported by            object \n",
      " 3   Falls within           object \n",
      " 4   Longitude              float64\n",
      " 5   Latitude               float64\n",
      " 6   Location               object \n",
      " 7   LSOA code              object \n",
      " 8   LSOA name              object \n",
      " 9   Crime type             object \n",
      " 10  Last outcome category  object \n",
      " 11  Context                float64\n",
      "dtypes: float64(3), object(9)\n",
      "memory usage: 1.7+ GB\n",
      "None\n"
     ]
    }
   ],
   "source": [
    "print('Crime Information', '\\n')\n",
    "print(crime_df.info())\n"
   ]
  },
  {
   "cell_type": "code",
   "execution_count": 6,
   "metadata": {},
   "outputs": [
    {
     "data": {
      "text/html": [
       "<div>\n",
       "<style scoped>\n",
       "    .dataframe tbody tr th:only-of-type {\n",
       "        vertical-align: middle;\n",
       "    }\n",
       "\n",
       "    .dataframe tbody tr th {\n",
       "        vertical-align: top;\n",
       "    }\n",
       "\n",
       "    .dataframe thead th {\n",
       "        text-align: right;\n",
       "    }\n",
       "</style>\n",
       "<table border=\"1\" class=\"dataframe\">\n",
       "  <thead>\n",
       "    <tr style=\"text-align: right;\">\n",
       "      <th></th>\n",
       "      <th>Crime ID</th>\n",
       "      <th>Month</th>\n",
       "      <th>Reported by</th>\n",
       "      <th>Falls within</th>\n",
       "      <th>Longitude</th>\n",
       "      <th>Latitude</th>\n",
       "      <th>Location</th>\n",
       "      <th>LSOA code</th>\n",
       "      <th>LSOA name</th>\n",
       "      <th>Outcome type</th>\n",
       "    </tr>\n",
       "  </thead>\n",
       "  <tbody>\n",
       "    <tr>\n",
       "      <th>0</th>\n",
       "      <td>aa36cff6a311dc3781080161311195c51a0e21d0ab8394...</td>\n",
       "      <td>2020-01</td>\n",
       "      <td>Suffolk Constabulary</td>\n",
       "      <td>Suffolk Constabulary</td>\n",
       "      <td>NaN</td>\n",
       "      <td>NaN</td>\n",
       "      <td>No location</td>\n",
       "      <td>NaN</td>\n",
       "      <td>NaN</td>\n",
       "      <td>Investigation complete; no suspect identified</td>\n",
       "    </tr>\n",
       "    <tr>\n",
       "      <th>1</th>\n",
       "      <td>63630c5dcef2a5cd6cbe2d595d56744cb5148d8b34d392...</td>\n",
       "      <td>2020-01</td>\n",
       "      <td>Suffolk Constabulary</td>\n",
       "      <td>Suffolk Constabulary</td>\n",
       "      <td>NaN</td>\n",
       "      <td>NaN</td>\n",
       "      <td>No location</td>\n",
       "      <td>NaN</td>\n",
       "      <td>NaN</td>\n",
       "      <td>Investigation complete; no suspect identified</td>\n",
       "    </tr>\n",
       "    <tr>\n",
       "      <th>2</th>\n",
       "      <td>3e3982fe4d6d4d51f33de2ace9e30046134a39a3319fee...</td>\n",
       "      <td>2020-01</td>\n",
       "      <td>Suffolk Constabulary</td>\n",
       "      <td>Suffolk Constabulary</td>\n",
       "      <td>NaN</td>\n",
       "      <td>NaN</td>\n",
       "      <td>No location</td>\n",
       "      <td>NaN</td>\n",
       "      <td>NaN</td>\n",
       "      <td>Investigation complete; no suspect identified</td>\n",
       "    </tr>\n",
       "    <tr>\n",
       "      <th>3</th>\n",
       "      <td>fb4768c340f7c75a203ce04a128bf4d8f9c658825f6568...</td>\n",
       "      <td>2020-01</td>\n",
       "      <td>Suffolk Constabulary</td>\n",
       "      <td>Suffolk Constabulary</td>\n",
       "      <td>NaN</td>\n",
       "      <td>NaN</td>\n",
       "      <td>No location</td>\n",
       "      <td>NaN</td>\n",
       "      <td>NaN</td>\n",
       "      <td>Suspect charged</td>\n",
       "    </tr>\n",
       "    <tr>\n",
       "      <th>4</th>\n",
       "      <td>4d74df4720b0039a01beb98822c2dbdf1be0208dc8170d...</td>\n",
       "      <td>2020-01</td>\n",
       "      <td>Suffolk Constabulary</td>\n",
       "      <td>Suffolk Constabulary</td>\n",
       "      <td>NaN</td>\n",
       "      <td>NaN</td>\n",
       "      <td>No location</td>\n",
       "      <td>NaN</td>\n",
       "      <td>NaN</td>\n",
       "      <td>Offender given a caution</td>\n",
       "    </tr>\n",
       "  </tbody>\n",
       "</table>\n",
       "</div>"
      ],
      "text/plain": [
       "                                            Crime ID    Month  \\\n",
       "0  aa36cff6a311dc3781080161311195c51a0e21d0ab8394...  2020-01   \n",
       "1  63630c5dcef2a5cd6cbe2d595d56744cb5148d8b34d392...  2020-01   \n",
       "2  3e3982fe4d6d4d51f33de2ace9e30046134a39a3319fee...  2020-01   \n",
       "3  fb4768c340f7c75a203ce04a128bf4d8f9c658825f6568...  2020-01   \n",
       "4  4d74df4720b0039a01beb98822c2dbdf1be0208dc8170d...  2020-01   \n",
       "\n",
       "            Reported by          Falls within  Longitude  Latitude  \\\n",
       "0  Suffolk Constabulary  Suffolk Constabulary        NaN       NaN   \n",
       "1  Suffolk Constabulary  Suffolk Constabulary        NaN       NaN   \n",
       "2  Suffolk Constabulary  Suffolk Constabulary        NaN       NaN   \n",
       "3  Suffolk Constabulary  Suffolk Constabulary        NaN       NaN   \n",
       "4  Suffolk Constabulary  Suffolk Constabulary        NaN       NaN   \n",
       "\n",
       "      Location LSOA code LSOA name  \\\n",
       "0  No location       NaN       NaN   \n",
       "1  No location       NaN       NaN   \n",
       "2  No location       NaN       NaN   \n",
       "3  No location       NaN       NaN   \n",
       "4  No location       NaN       NaN   \n",
       "\n",
       "                                    Outcome type  \n",
       "0  Investigation complete; no suspect identified  \n",
       "1  Investigation complete; no suspect identified  \n",
       "2  Investigation complete; no suspect identified  \n",
       "3                                Suspect charged  \n",
       "4                       Offender given a caution  "
      ]
     },
     "execution_count": 6,
     "metadata": {},
     "output_type": "execute_result"
    }
   ],
   "source": [
    "outcome_df.head()"
   ]
  },
  {
   "cell_type": "code",
   "execution_count": 7,
   "metadata": {},
   "outputs": [
    {
     "data": {
      "text/html": [
       "<div>\n",
       "<style scoped>\n",
       "    .dataframe tbody tr th:only-of-type {\n",
       "        vertical-align: middle;\n",
       "    }\n",
       "\n",
       "    .dataframe tbody tr th {\n",
       "        vertical-align: top;\n",
       "    }\n",
       "\n",
       "    .dataframe thead th {\n",
       "        text-align: right;\n",
       "    }\n",
       "</style>\n",
       "<table border=\"1\" class=\"dataframe\">\n",
       "  <thead>\n",
       "    <tr style=\"text-align: right;\">\n",
       "      <th></th>\n",
       "      <th>Crime ID</th>\n",
       "      <th>Month</th>\n",
       "      <th>Reported by</th>\n",
       "      <th>Falls within</th>\n",
       "      <th>Longitude</th>\n",
       "      <th>Latitude</th>\n",
       "      <th>Location</th>\n",
       "      <th>LSOA code</th>\n",
       "      <th>LSOA name</th>\n",
       "      <th>Crime type</th>\n",
       "      <th>Last outcome category</th>\n",
       "      <th>Context</th>\n",
       "    </tr>\n",
       "  </thead>\n",
       "  <tbody>\n",
       "    <tr>\n",
       "      <th>0</th>\n",
       "      <td>c7000c41002f19263d4adec66b911f1c3f5e7eeb1302a3...</td>\n",
       "      <td>2020-01</td>\n",
       "      <td>West Yorkshire Police</td>\n",
       "      <td>West Yorkshire Police</td>\n",
       "      <td>-1.570572</td>\n",
       "      <td>53.607792</td>\n",
       "      <td>On or near Park/Open Space</td>\n",
       "      <td>E01007418</td>\n",
       "      <td>Barnsley 016A</td>\n",
       "      <td>Other theft</td>\n",
       "      <td>Status update unavailable</td>\n",
       "      <td>NaN</td>\n",
       "    </tr>\n",
       "    <tr>\n",
       "      <th>1</th>\n",
       "      <td>b8bc1b6cf423a9431734982fffb11f803cf82140702cc7...</td>\n",
       "      <td>2020-01</td>\n",
       "      <td>West Yorkshire Police</td>\n",
       "      <td>West Yorkshire Police</td>\n",
       "      <td>-1.670108</td>\n",
       "      <td>53.553629</td>\n",
       "      <td>On or near Huddersfield Road</td>\n",
       "      <td>E01007426</td>\n",
       "      <td>Barnsley 027D</td>\n",
       "      <td>Robbery</td>\n",
       "      <td>Investigation complete; no suspect identified</td>\n",
       "      <td>NaN</td>\n",
       "    </tr>\n",
       "    <tr>\n",
       "      <th>2</th>\n",
       "      <td>8c69cefea36edafe5fa3f992ccc31d3cfd0c9af9a81429...</td>\n",
       "      <td>2020-01</td>\n",
       "      <td>West Yorkshire Police</td>\n",
       "      <td>West Yorkshire Police</td>\n",
       "      <td>-1.879031</td>\n",
       "      <td>53.943807</td>\n",
       "      <td>On or near Cross End Fold</td>\n",
       "      <td>E01010646</td>\n",
       "      <td>Bradford 001A</td>\n",
       "      <td>Bicycle theft</td>\n",
       "      <td>Investigation complete; no suspect identified</td>\n",
       "      <td>NaN</td>\n",
       "    </tr>\n",
       "    <tr>\n",
       "      <th>3</th>\n",
       "      <td>7236a8fb307214df61ca7a9b93bd309c0524f9bee58d89...</td>\n",
       "      <td>2020-01</td>\n",
       "      <td>West Yorkshire Police</td>\n",
       "      <td>West Yorkshire Police</td>\n",
       "      <td>-1.882746</td>\n",
       "      <td>53.933807</td>\n",
       "      <td>On or near Cocking Lane</td>\n",
       "      <td>E01010646</td>\n",
       "      <td>Bradford 001A</td>\n",
       "      <td>Burglary</td>\n",
       "      <td>Investigation complete; no suspect identified</td>\n",
       "      <td>NaN</td>\n",
       "    </tr>\n",
       "    <tr>\n",
       "      <th>4</th>\n",
       "      <td>92803cebdfde14ad870899c45c6bee398331f33a053bf1...</td>\n",
       "      <td>2020-01</td>\n",
       "      <td>West Yorkshire Police</td>\n",
       "      <td>West Yorkshire Police</td>\n",
       "      <td>-1.881467</td>\n",
       "      <td>53.944510</td>\n",
       "      <td>On or near Kilners Croft</td>\n",
       "      <td>E01010646</td>\n",
       "      <td>Bradford 001A</td>\n",
       "      <td>Criminal damage and arson</td>\n",
       "      <td>Investigation complete; no suspect identified</td>\n",
       "      <td>NaN</td>\n",
       "    </tr>\n",
       "  </tbody>\n",
       "</table>\n",
       "</div>"
      ],
      "text/plain": [
       "                                            Crime ID    Month  \\\n",
       "0  c7000c41002f19263d4adec66b911f1c3f5e7eeb1302a3...  2020-01   \n",
       "1  b8bc1b6cf423a9431734982fffb11f803cf82140702cc7...  2020-01   \n",
       "2  8c69cefea36edafe5fa3f992ccc31d3cfd0c9af9a81429...  2020-01   \n",
       "3  7236a8fb307214df61ca7a9b93bd309c0524f9bee58d89...  2020-01   \n",
       "4  92803cebdfde14ad870899c45c6bee398331f33a053bf1...  2020-01   \n",
       "\n",
       "             Reported by           Falls within  Longitude   Latitude  \\\n",
       "0  West Yorkshire Police  West Yorkshire Police  -1.570572  53.607792   \n",
       "1  West Yorkshire Police  West Yorkshire Police  -1.670108  53.553629   \n",
       "2  West Yorkshire Police  West Yorkshire Police  -1.879031  53.943807   \n",
       "3  West Yorkshire Police  West Yorkshire Police  -1.882746  53.933807   \n",
       "4  West Yorkshire Police  West Yorkshire Police  -1.881467  53.944510   \n",
       "\n",
       "                       Location  LSOA code      LSOA name  \\\n",
       "0    On or near Park/Open Space  E01007418  Barnsley 016A   \n",
       "1  On or near Huddersfield Road  E01007426  Barnsley 027D   \n",
       "2     On or near Cross End Fold  E01010646  Bradford 001A   \n",
       "3       On or near Cocking Lane  E01010646  Bradford 001A   \n",
       "4      On or near Kilners Croft  E01010646  Bradford 001A   \n",
       "\n",
       "                  Crime type                          Last outcome category  \\\n",
       "0                Other theft                      Status update unavailable   \n",
       "1                    Robbery  Investigation complete; no suspect identified   \n",
       "2              Bicycle theft  Investigation complete; no suspect identified   \n",
       "3                   Burglary  Investigation complete; no suspect identified   \n",
       "4  Criminal damage and arson  Investigation complete; no suspect identified   \n",
       "\n",
       "   Context  \n",
       "0      NaN  \n",
       "1      NaN  \n",
       "2      NaN  \n",
       "3      NaN  \n",
       "4      NaN  "
      ]
     },
     "execution_count": 7,
     "metadata": {},
     "output_type": "execute_result"
    }
   ],
   "source": [
    "crime_df.head()"
   ]
  },
  {
   "attachments": {},
   "cell_type": "markdown",
   "metadata": {},
   "source": [
    "#### The task requires me to gather the information from all street level crime and outcome data, along with the nearest police stations. This means I will need the Crime ID, Month, Reported By, Falls within, Location, Crime Type, Last outcome category from the crime_df, then from the outcome_df I will need the Outcome type. I'll use the primary key of the Crime ID to match the correct outcome types to the appropriate crime in the new database. I can create my table in SQL as below, or I can do it with the pandas library."
   ]
  },
  {
   "cell_type": "code",
   "execution_count": 8,
   "metadata": {},
   "outputs": [],
   "source": [
    "import sqlite3\n",
    "\n",
    "conn = sqlite3.connect('example_sql_db') \n",
    "c = conn.cursor()\n",
    "\n",
    "# Now to create the tables in the database\n",
    "c.execute('''\n",
    "          CREATE TABLE IF NOT EXISTS station_outcomes\n",
    "          (\n",
    "          [station] TEXT PRIMARY KEY, \n",
    "          [no_outcomes] INTEGER\n",
    "          )\n",
    "          ''')\n",
    "          \n",
    "c.execute('''\n",
    "          CREATE TABLE IF NOT EXISTS crime_data\n",
    "          (\n",
    "          [crime_id] TEXT PRIMARY KEY, \n",
    "          [month] TEXT,\n",
    "          [reported_by] TEXT,\n",
    "          [falls_within] TEXT,\n",
    "          [location] TEXT,\n",
    "          [crime_type] TEXT,\n",
    "          [last_outcome_category] TEXT,\n",
    "          [outcome_type] TEXT\n",
    "          )\n",
    "          ''')\n",
    "\n",
    "conn.commit()"
   ]
  },
  {
   "attachments": {},
   "cell_type": "markdown",
   "metadata": {},
   "source": [
    "#### Now to start organizing the data to into dataframes that I can then load into the tables I have created."
   ]
  },
  {
   "cell_type": "code",
   "execution_count": 9,
   "metadata": {},
   "outputs": [],
   "source": [
    "# Filter the crimes and outcome dataframes to only include the columns I need\n",
    "final_df = crime_df.filter(['Crime ID', 'Month', 'Reported by', 'Falls within', 'Location', 'Crime type', 'Last outcome category'], axis=1)\n",
    "outcome_df = outcome_df.filter(['Crime ID', 'Outcome type'])\n",
    "\n",
    "# Left merge the outcome_df and the final_df, then I can filter to just include the columns I need.\n",
    "final_df = final_df.merge(outcome_df, on=['Crime ID'], how='left') "
   ]
  },
  {
   "attachments": {},
   "cell_type": "markdown",
   "metadata": {},
   "source": [
    "#### Now to fill the station outcomes table. For this I will count the amount of null outcomes for each station, then store them against that station in a table. To identify true missing outcomes I would like to count the number of nulls in the outcome columns of my final dataframe."
   ]
  },
  {
   "cell_type": "code",
   "execution_count": 10,
   "metadata": {},
   "outputs": [
    {
     "data": {
      "text/html": [
       "<div>\n",
       "<style scoped>\n",
       "    .dataframe tbody tr th:only-of-type {\n",
       "        vertical-align: middle;\n",
       "    }\n",
       "\n",
       "    .dataframe tbody tr th {\n",
       "        vertical-align: top;\n",
       "    }\n",
       "\n",
       "    .dataframe thead th {\n",
       "        text-align: right;\n",
       "    }\n",
       "</style>\n",
       "<table border=\"1\" class=\"dataframe\">\n",
       "  <thead>\n",
       "    <tr style=\"text-align: right;\">\n",
       "      <th></th>\n",
       "      <th>Crime ID</th>\n",
       "      <th>Month</th>\n",
       "      <th>Reported by</th>\n",
       "      <th>Falls within</th>\n",
       "      <th>Location</th>\n",
       "      <th>Crime type</th>\n",
       "      <th>Last outcome category</th>\n",
       "      <th>Outcome type</th>\n",
       "    </tr>\n",
       "  </thead>\n",
       "  <tbody>\n",
       "    <tr>\n",
       "      <th>0</th>\n",
       "      <td>c7000c41002f19263d4adec66b911f1c3f5e7eeb1302a3...</td>\n",
       "      <td>2020-01</td>\n",
       "      <td>West Yorkshire Police</td>\n",
       "      <td>West Yorkshire Police</td>\n",
       "      <td>On or near Park/Open Space</td>\n",
       "      <td>Other theft</td>\n",
       "      <td>Status update unavailable</td>\n",
       "      <td>NaN</td>\n",
       "    </tr>\n",
       "    <tr>\n",
       "      <th>5</th>\n",
       "      <td>930c29edbf799c97c2272515cefebc7226e408edbc3dec...</td>\n",
       "      <td>2020-01</td>\n",
       "      <td>West Yorkshire Police</td>\n",
       "      <td>West Yorkshire Police</td>\n",
       "      <td>On or near Parking Area</td>\n",
       "      <td>Criminal damage and arson</td>\n",
       "      <td>Status update unavailable</td>\n",
       "      <td>NaN</td>\n",
       "    </tr>\n",
       "    <tr>\n",
       "      <th>8</th>\n",
       "      <td>b654782b72ef41536a80f76b30e09b6ad27bd02e4da464...</td>\n",
       "      <td>2020-01</td>\n",
       "      <td>West Yorkshire Police</td>\n",
       "      <td>West Yorkshire Police</td>\n",
       "      <td>On or near Moorside Lane</td>\n",
       "      <td>Other theft</td>\n",
       "      <td>Status update unavailable</td>\n",
       "      <td>NaN</td>\n",
       "    </tr>\n",
       "    <tr>\n",
       "      <th>17</th>\n",
       "      <td>7b4fb7cc3bfb2c88e1689077c560577a7405736ffe2e1b...</td>\n",
       "      <td>2020-01</td>\n",
       "      <td>West Yorkshire Police</td>\n",
       "      <td>West Yorkshire Police</td>\n",
       "      <td>On or near Sefton Drive</td>\n",
       "      <td>Violence and sexual offences</td>\n",
       "      <td>Status update unavailable</td>\n",
       "      <td>NaN</td>\n",
       "    </tr>\n",
       "    <tr>\n",
       "      <th>23</th>\n",
       "      <td>c46962d275f9db2f94d9b555144a66898319b42d79d256...</td>\n",
       "      <td>2020-01</td>\n",
       "      <td>West Yorkshire Police</td>\n",
       "      <td>West Yorkshire Police</td>\n",
       "      <td>On or near Wheatley Road</td>\n",
       "      <td>Burglary</td>\n",
       "      <td>Status update unavailable</td>\n",
       "      <td>NaN</td>\n",
       "    </tr>\n",
       "  </tbody>\n",
       "</table>\n",
       "</div>"
      ],
      "text/plain": [
       "                                             Crime ID    Month  \\\n",
       "0   c7000c41002f19263d4adec66b911f1c3f5e7eeb1302a3...  2020-01   \n",
       "5   930c29edbf799c97c2272515cefebc7226e408edbc3dec...  2020-01   \n",
       "8   b654782b72ef41536a80f76b30e09b6ad27bd02e4da464...  2020-01   \n",
       "17  7b4fb7cc3bfb2c88e1689077c560577a7405736ffe2e1b...  2020-01   \n",
       "23  c46962d275f9db2f94d9b555144a66898319b42d79d256...  2020-01   \n",
       "\n",
       "              Reported by           Falls within                    Location  \\\n",
       "0   West Yorkshire Police  West Yorkshire Police  On or near Park/Open Space   \n",
       "5   West Yorkshire Police  West Yorkshire Police     On or near Parking Area   \n",
       "8   West Yorkshire Police  West Yorkshire Police    On or near Moorside Lane   \n",
       "17  West Yorkshire Police  West Yorkshire Police     On or near Sefton Drive   \n",
       "23  West Yorkshire Police  West Yorkshire Police    On or near Wheatley Road   \n",
       "\n",
       "                      Crime type      Last outcome category Outcome type  \n",
       "0                    Other theft  Status update unavailable          NaN  \n",
       "5      Criminal damage and arson  Status update unavailable          NaN  \n",
       "8                    Other theft  Status update unavailable          NaN  \n",
       "17  Violence and sexual offences  Status update unavailable          NaN  \n",
       "23                      Burglary  Status update unavailable          NaN  "
      ]
     },
     "execution_count": 10,
     "metadata": {},
     "output_type": "execute_result"
    }
   ],
   "source": [
    "empty_df = final_df[final_df['Outcome type'].isna()]\n",
    "\n",
    "empty_df[empty_df['Last outcome category'].notnull()].head()"
   ]
  },
  {
   "attachments": {},
   "cell_type": "markdown",
   "metadata": {},
   "source": [
    "#### The majority of the differences appear to be because the Last Outcome Category is 'Status update unavailable'. So in i will make a new column to make sure any crimes without outcomes are type null instead of Status update unavailable."
   ]
  },
  {
   "cell_type": "code",
   "execution_count": 11,
   "metadata": {},
   "outputs": [],
   "source": [
    "import numpy as np\n",
    "\n",
    "final_df.loc[final_df['Last outcome category'] == 'Status update unavailable', 'Last outcome category'] = np.nan"
   ]
  },
  {
   "cell_type": "code",
   "execution_count": 12,
   "metadata": {},
   "outputs": [
    {
     "data": {
      "text/html": [
       "<div>\n",
       "<style scoped>\n",
       "    .dataframe tbody tr th:only-of-type {\n",
       "        vertical-align: middle;\n",
       "    }\n",
       "\n",
       "    .dataframe tbody tr th {\n",
       "        vertical-align: top;\n",
       "    }\n",
       "\n",
       "    .dataframe thead th {\n",
       "        text-align: right;\n",
       "    }\n",
       "</style>\n",
       "<table border=\"1\" class=\"dataframe\">\n",
       "  <thead>\n",
       "    <tr style=\"text-align: right;\">\n",
       "      <th></th>\n",
       "      <th>Crime ID</th>\n",
       "      <th>Month</th>\n",
       "      <th>Reported by</th>\n",
       "      <th>Falls within</th>\n",
       "      <th>Location</th>\n",
       "      <th>Crime type</th>\n",
       "      <th>Last outcome category</th>\n",
       "      <th>Outcome type</th>\n",
       "      <th>Outcome</th>\n",
       "    </tr>\n",
       "  </thead>\n",
       "  <tbody>\n",
       "    <tr>\n",
       "      <th>0</th>\n",
       "      <td>c7000c41002f19263d4adec66b911f1c3f5e7eeb1302a3...</td>\n",
       "      <td>2020-01</td>\n",
       "      <td>West Yorkshire Police</td>\n",
       "      <td>West Yorkshire Police</td>\n",
       "      <td>On or near Park/Open Space</td>\n",
       "      <td>Other theft</td>\n",
       "      <td>NaN</td>\n",
       "      <td>NaN</td>\n",
       "      <td>NaN</td>\n",
       "    </tr>\n",
       "    <tr>\n",
       "      <th>1</th>\n",
       "      <td>b8bc1b6cf423a9431734982fffb11f803cf82140702cc7...</td>\n",
       "      <td>2020-01</td>\n",
       "      <td>West Yorkshire Police</td>\n",
       "      <td>West Yorkshire Police</td>\n",
       "      <td>On or near Huddersfield Road</td>\n",
       "      <td>Robbery</td>\n",
       "      <td>Investigation complete; no suspect identified</td>\n",
       "      <td>Investigation complete; no suspect identified</td>\n",
       "      <td>Investigation complete; no suspect identified</td>\n",
       "    </tr>\n",
       "    <tr>\n",
       "      <th>2</th>\n",
       "      <td>8c69cefea36edafe5fa3f992ccc31d3cfd0c9af9a81429...</td>\n",
       "      <td>2020-01</td>\n",
       "      <td>West Yorkshire Police</td>\n",
       "      <td>West Yorkshire Police</td>\n",
       "      <td>On or near Cross End Fold</td>\n",
       "      <td>Bicycle theft</td>\n",
       "      <td>Investigation complete; no suspect identified</td>\n",
       "      <td>Investigation complete; no suspect identified</td>\n",
       "      <td>Investigation complete; no suspect identified</td>\n",
       "    </tr>\n",
       "    <tr>\n",
       "      <th>3</th>\n",
       "      <td>7236a8fb307214df61ca7a9b93bd309c0524f9bee58d89...</td>\n",
       "      <td>2020-01</td>\n",
       "      <td>West Yorkshire Police</td>\n",
       "      <td>West Yorkshire Police</td>\n",
       "      <td>On or near Cocking Lane</td>\n",
       "      <td>Burglary</td>\n",
       "      <td>Investigation complete; no suspect identified</td>\n",
       "      <td>Investigation complete; no suspect identified</td>\n",
       "      <td>Investigation complete; no suspect identified</td>\n",
       "    </tr>\n",
       "    <tr>\n",
       "      <th>4</th>\n",
       "      <td>92803cebdfde14ad870899c45c6bee398331f33a053bf1...</td>\n",
       "      <td>2020-01</td>\n",
       "      <td>West Yorkshire Police</td>\n",
       "      <td>West Yorkshire Police</td>\n",
       "      <td>On or near Kilners Croft</td>\n",
       "      <td>Criminal damage and arson</td>\n",
       "      <td>Investigation complete; no suspect identified</td>\n",
       "      <td>Investigation complete; no suspect identified</td>\n",
       "      <td>Investigation complete; no suspect identified</td>\n",
       "    </tr>\n",
       "  </tbody>\n",
       "</table>\n",
       "</div>"
      ],
      "text/plain": [
       "                                            Crime ID    Month  \\\n",
       "0  c7000c41002f19263d4adec66b911f1c3f5e7eeb1302a3...  2020-01   \n",
       "1  b8bc1b6cf423a9431734982fffb11f803cf82140702cc7...  2020-01   \n",
       "2  8c69cefea36edafe5fa3f992ccc31d3cfd0c9af9a81429...  2020-01   \n",
       "3  7236a8fb307214df61ca7a9b93bd309c0524f9bee58d89...  2020-01   \n",
       "4  92803cebdfde14ad870899c45c6bee398331f33a053bf1...  2020-01   \n",
       "\n",
       "             Reported by           Falls within                      Location  \\\n",
       "0  West Yorkshire Police  West Yorkshire Police    On or near Park/Open Space   \n",
       "1  West Yorkshire Police  West Yorkshire Police  On or near Huddersfield Road   \n",
       "2  West Yorkshire Police  West Yorkshire Police     On or near Cross End Fold   \n",
       "3  West Yorkshire Police  West Yorkshire Police       On or near Cocking Lane   \n",
       "4  West Yorkshire Police  West Yorkshire Police      On or near Kilners Croft   \n",
       "\n",
       "                  Crime type                          Last outcome category  \\\n",
       "0                Other theft                                            NaN   \n",
       "1                    Robbery  Investigation complete; no suspect identified   \n",
       "2              Bicycle theft  Investigation complete; no suspect identified   \n",
       "3                   Burglary  Investigation complete; no suspect identified   \n",
       "4  Criminal damage and arson  Investigation complete; no suspect identified   \n",
       "\n",
       "                                    Outcome type  \\\n",
       "0                                            NaN   \n",
       "1  Investigation complete; no suspect identified   \n",
       "2  Investigation complete; no suspect identified   \n",
       "3  Investigation complete; no suspect identified   \n",
       "4  Investigation complete; no suspect identified   \n",
       "\n",
       "                                         Outcome  \n",
       "0                                            NaN  \n",
       "1  Investigation complete; no suspect identified  \n",
       "2  Investigation complete; no suspect identified  \n",
       "3  Investigation complete; no suspect identified  \n",
       "4  Investigation complete; no suspect identified  "
      ]
     },
     "execution_count": 12,
     "metadata": {},
     "output_type": "execute_result"
    }
   ],
   "source": [
    "final_df['Outcome'] = final_df['Last outcome category'] if not np.nan else final_df['Outcome type']\n",
    "final_df.head()"
   ]
  },
  {
   "attachments": {},
   "cell_type": "markdown",
   "metadata": {},
   "source": [
    "#### Now I have collated all the data into one dataframe which I can use to count the number of null outcomes for each station location. So I can now delete the last outcome category and outcome type columns."
   ]
  },
  {
   "cell_type": "code",
   "execution_count": 13,
   "metadata": {},
   "outputs": [
    {
     "name": "stdout",
     "output_type": "stream",
     "text": [
      "<class 'pandas.core.frame.DataFrame'>\n",
      "Int64Index: 19872722 entries, 0 to 19872721\n",
      "Data columns (total 7 columns):\n",
      " #   Column        Dtype \n",
      "---  ------        ----- \n",
      " 0   Crime ID      object\n",
      " 1   Month         object\n",
      " 2   Reported by   object\n",
      " 3   Falls within  object\n",
      " 4   Location      object\n",
      " 5   Crime type    object\n",
      " 6   Outcome       object\n",
      "dtypes: object(7)\n",
      "memory usage: 1.2+ GB\n"
     ]
    }
   ],
   "source": [
    "del final_df['Last outcome category']\n",
    "del final_df['Outcome type']\n",
    "\n",
    "final_df.info()"
   ]
  },
  {
   "cell_type": "code",
   "execution_count": 14,
   "metadata": {},
   "outputs": [],
   "source": [
    "outcome_counts_df = final_df.filter(['Falls within', 'Outcome'])\n",
    "\n",
    "stations = outcome_counts_df['Falls within'].unique()\n",
    "null_count = []\n",
    "\n",
    "for station in stations:\n",
    "    series = outcome_counts_df.loc[outcome_counts_df['Falls within'] == station]\n",
    "    null_count.append(series['Outcome'].isna().sum())\n",
    "\n",
    "counts_df = pd.DataFrame({'Stations': stations, 'No outcome counts': null_count})\n"
   ]
  },
  {
   "cell_type": "code",
   "execution_count": 15,
   "metadata": {},
   "outputs": [
    {
     "data": {
      "text/html": [
       "<div>\n",
       "<style scoped>\n",
       "    .dataframe tbody tr th:only-of-type {\n",
       "        vertical-align: middle;\n",
       "    }\n",
       "\n",
       "    .dataframe tbody tr th {\n",
       "        vertical-align: top;\n",
       "    }\n",
       "\n",
       "    .dataframe thead th {\n",
       "        text-align: right;\n",
       "    }\n",
       "</style>\n",
       "<table border=\"1\" class=\"dataframe\">\n",
       "  <thead>\n",
       "    <tr style=\"text-align: right;\">\n",
       "      <th></th>\n",
       "      <th>Stations</th>\n",
       "      <th>No outcome counts</th>\n",
       "    </tr>\n",
       "  </thead>\n",
       "  <tbody>\n",
       "    <tr>\n",
       "      <th>0</th>\n",
       "      <td>West Yorkshire Police</td>\n",
       "      <td>181399</td>\n",
       "    </tr>\n",
       "    <tr>\n",
       "      <th>1</th>\n",
       "      <td>Humberside Police</td>\n",
       "      <td>62320</td>\n",
       "    </tr>\n",
       "    <tr>\n",
       "      <th>2</th>\n",
       "      <td>Hertfordshire Constabulary</td>\n",
       "      <td>101168</td>\n",
       "    </tr>\n",
       "    <tr>\n",
       "      <th>3</th>\n",
       "      <td>Gloucestershire Constabulary</td>\n",
       "      <td>78871</td>\n",
       "    </tr>\n",
       "    <tr>\n",
       "      <th>4</th>\n",
       "      <td>Cleveland Police</td>\n",
       "      <td>80736</td>\n",
       "    </tr>\n",
       "  </tbody>\n",
       "</table>\n",
       "</div>"
      ],
      "text/plain": [
       "                       Stations  No outcome counts\n",
       "0         West Yorkshire Police             181399\n",
       "1             Humberside Police              62320\n",
       "2    Hertfordshire Constabulary             101168\n",
       "3  Gloucestershire Constabulary              78871\n",
       "4              Cleveland Police              80736"
      ]
     },
     "execution_count": 15,
     "metadata": {},
     "output_type": "execute_result"
    }
   ],
   "source": [
    "counts_df.head()"
   ]
  },
  {
   "attachments": {},
   "cell_type": "markdown",
   "metadata": {},
   "source": [
    "#### Now we have a dataframe of all the stations and their crimes with no outcomes. All that is left to do is to remove all null values and load them into sqlite databases."
   ]
  },
  {
   "cell_type": "code",
   "execution_count": 16,
   "metadata": {},
   "outputs": [
    {
     "name": "stderr",
     "output_type": "stream",
     "text": [
      "/Library/Frameworks/Python.framework/Versions/3.9/lib/python3.9/site-packages/pandas/core/generic.py:2872: UserWarning: The spaces in these column names will not be changed. In pandas versions < 0.14, spaces were converted to underscores.\n",
      "  sql.to_sql(\n"
     ]
    }
   ],
   "source": [
    "# Remove the crime df rows where the outcome columns is NaN\n",
    "crime_df = final_df.dropna(subset=['Outcome'])\n",
    "\n",
    "con = sqlite3.connect('final_crime_db')\n",
    "\n",
    "# Write the new DataFrame to a new SQLite table\n",
    "crime_df.to_sql(\"crime_db\", con, if_exists=\"replace\")\n",
    "\n",
    "con.close()"
   ]
  },
  {
   "cell_type": "code",
   "execution_count": 17,
   "metadata": {},
   "outputs": [],
   "source": [
    "con = sqlite3.connect('final_no_outcome_db')\n",
    "\n",
    "# Write the new DataFrame to a new SQLite table\n",
    "counts_df.to_sql(\"counts_db\", con, if_exists=\"replace\")\n",
    "\n",
    "con.close()"
   ]
  },
  {
   "cell_type": "code",
   "execution_count": 23,
   "metadata": {},
   "outputs": [
    {
     "name": "stdout",
     "output_type": "stream",
     "text": [
      "<class 'pandas.core.frame.DataFrame'>\n",
      "RangeIndex: 45 entries, 0 to 44\n",
      "Data columns (total 2 columns):\n",
      " #   Column             Non-Null Count  Dtype \n",
      "---  ------             --------------  ----- \n",
      " 0   Stations           45 non-null     object\n",
      " 1   No outcome counts  45 non-null     int64 \n",
      "dtypes: int64(1), object(1)\n",
      "memory usage: 848.0+ bytes\n"
     ]
    }
   ],
   "source": [
    "counts_df.info()"
   ]
  },
  {
   "attachments": {},
   "cell_type": "markdown",
   "metadata": {},
   "source": [
    "#### I'll also save them to csv files to be sure that my result can be read easily."
   ]
  },
  {
   "cell_type": "code",
   "execution_count": 29,
   "metadata": {},
   "outputs": [],
   "source": [
    "condensed = crime_df.sample(n = 100)\n",
    "condensed.to_csv('crime.csv', index=False)\n",
    "counts_df = counts_df.sort_values(by = 'No outcome counts')\n",
    "counts_df.to_csv('station_no-outcome_count.csv', index=False)"
   ]
  },
  {
   "attachments": {},
   "cell_type": "markdown",
   "metadata": {},
   "source": [
    "#### With more time I would like to compare and reconsile the rest of the data, while also adding another column that classifies the counts indicating whether they are good or bad in comparison to the average."
   ]
  }
 ],
 "metadata": {
  "kernelspec": {
   "display_name": "Python 3",
   "language": "python",
   "name": "python3"
  },
  "language_info": {
   "codemirror_mode": {
    "name": "ipython",
    "version": 3
   },
   "file_extension": ".py",
   "mimetype": "text/x-python",
   "name": "python",
   "nbconvert_exporter": "python",
   "pygments_lexer": "ipython3",
   "version": "3.9.6"
  },
  "orig_nbformat": 4,
  "vscode": {
   "interpreter": {
    "hash": "aee8b7b246df8f9039afb4144a1f6fd8d2ca17a180786b69acc140d282b71a49"
   }
  }
 },
 "nbformat": 4,
 "nbformat_minor": 2
}
