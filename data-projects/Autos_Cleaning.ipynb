{
 "cells": [
  {
   "cell_type": "markdown",
   "metadata": {
    "collapsed": true
   },
   "source": [
    "# Used Cars Dataset Analysis"
   ]
  },
  {
   "cell_type": "markdown",
   "metadata": {},
   "source": [
    "### The aim of this project is to clean the data and analyze the included used car listings"
   ]
  },
  {
   "cell_type": "code",
   "execution_count": 77,
   "metadata": {},
   "outputs": [],
   "source": [
    "import pandas as pd \n",
    "import numpy as np\n",
    "\n",
    "autos = pd.read_csv('autos.csv', encoding = 'Latin-1')"
   ]
  },
  {
   "cell_type": "code",
   "execution_count": 58,
   "metadata": {
    "scrolled": false
   },
   "outputs": [],
   "source": [
    "#autos.info()\n",
    "#autos.head(3)"
   ]
  },
  {
   "cell_type": "markdown",
   "metadata": {},
   "source": [
    "#### Change column names from CamelCase to Snake_case and shorten longer column names if possible"
   ]
  },
  {
   "cell_type": "code",
   "execution_count": 78,
   "metadata": {},
   "outputs": [],
   "source": [
    "corrections = {\n",
    "'dateCrawled': 'date_crawled',\n",
    "'name' : 'name',\n",
    "'seller' : 'seller', \n",
    "'offerType' : 'offer_type',\n",
    "'price' : 'price',\n",
    "'abtest' : 'abtest',\n",
    "'vehicleType' : 'vehicle_type',\n",
    "'yearOfRegistration' : 'registration_year',\n",
    "'gearbox' : 'gearbox',\n",
    "'powerPS' : 'power_ps', \n",
    "'model' : 'model',\n",
    "'odometer' : 'odometer',\n",
    "'monthOfRegistration' : 'registration_month',\n",
    "'fuelType' : 'fuel_type',\n",
    "'brand' : 'brand',\n",
    "'notRepairedDamage' : 'unrepaired_damage',\n",
    "'dateCreated' : 'ad_created',\n",
    "'nrOfPictures' : 'nr_of_pictures',\n",
    "'postalCode' : 'postal_code',\n",
    "'lastSeen' : 'last_seen'\n",
    "}\n",
    "\n",
    "autos.columns = autos.columns.map(corrections)\n"
   ]
  },
  {
   "cell_type": "code",
   "execution_count": 83,
   "metadata": {},
   "outputs": [
    {
     "data": {
      "text/html": [
       "<div>\n",
       "<style scoped>\n",
       "    .dataframe tbody tr th:only-of-type {\n",
       "        vertical-align: middle;\n",
       "    }\n",
       "\n",
       "    .dataframe tbody tr th {\n",
       "        vertical-align: top;\n",
       "    }\n",
       "\n",
       "    .dataframe thead th {\n",
       "        text-align: right;\n",
       "    }\n",
       "</style>\n",
       "<table border=\"1\" class=\"dataframe\">\n",
       "  <thead>\n",
       "    <tr style=\"text-align: right;\">\n",
       "      <th></th>\n",
       "      <th>price</th>\n",
       "      <th>registration_year</th>\n",
       "      <th>power_ps</th>\n",
       "      <th>odometer_km</th>\n",
       "      <th>registration_month</th>\n",
       "      <th>nr_of_pictures</th>\n",
       "      <th>postal_code</th>\n",
       "      <th>year</th>\n",
       "    </tr>\n",
       "  </thead>\n",
       "  <tbody>\n",
       "    <tr>\n",
       "      <th>count</th>\n",
       "      <td>5.000000e+04</td>\n",
       "      <td>50000.000000</td>\n",
       "      <td>50000.000000</td>\n",
       "      <td>50000.000000</td>\n",
       "      <td>50000.000000</td>\n",
       "      <td>50000.0</td>\n",
       "      <td>50000.000000</td>\n",
       "      <td>50000.000000</td>\n",
       "    </tr>\n",
       "    <tr>\n",
       "      <th>mean</th>\n",
       "      <td>9.840044e+03</td>\n",
       "      <td>2005.073280</td>\n",
       "      <td>116.355920</td>\n",
       "      <td>125732.700000</td>\n",
       "      <td>5.723360</td>\n",
       "      <td>0.0</td>\n",
       "      <td>50813.627300</td>\n",
       "      <td>2005.073280</td>\n",
       "    </tr>\n",
       "    <tr>\n",
       "      <th>std</th>\n",
       "      <td>4.811044e+05</td>\n",
       "      <td>105.712813</td>\n",
       "      <td>209.216627</td>\n",
       "      <td>40042.211706</td>\n",
       "      <td>3.711984</td>\n",
       "      <td>0.0</td>\n",
       "      <td>25779.747957</td>\n",
       "      <td>105.712813</td>\n",
       "    </tr>\n",
       "    <tr>\n",
       "      <th>min</th>\n",
       "      <td>0.000000e+00</td>\n",
       "      <td>1000.000000</td>\n",
       "      <td>0.000000</td>\n",
       "      <td>5000.000000</td>\n",
       "      <td>0.000000</td>\n",
       "      <td>0.0</td>\n",
       "      <td>1067.000000</td>\n",
       "      <td>1000.000000</td>\n",
       "    </tr>\n",
       "    <tr>\n",
       "      <th>25%</th>\n",
       "      <td>1.100000e+03</td>\n",
       "      <td>1999.000000</td>\n",
       "      <td>70.000000</td>\n",
       "      <td>125000.000000</td>\n",
       "      <td>3.000000</td>\n",
       "      <td>0.0</td>\n",
       "      <td>30451.000000</td>\n",
       "      <td>1999.000000</td>\n",
       "    </tr>\n",
       "    <tr>\n",
       "      <th>50%</th>\n",
       "      <td>2.950000e+03</td>\n",
       "      <td>2003.000000</td>\n",
       "      <td>105.000000</td>\n",
       "      <td>150000.000000</td>\n",
       "      <td>6.000000</td>\n",
       "      <td>0.0</td>\n",
       "      <td>49577.000000</td>\n",
       "      <td>2003.000000</td>\n",
       "    </tr>\n",
       "    <tr>\n",
       "      <th>75%</th>\n",
       "      <td>7.200000e+03</td>\n",
       "      <td>2008.000000</td>\n",
       "      <td>150.000000</td>\n",
       "      <td>150000.000000</td>\n",
       "      <td>9.000000</td>\n",
       "      <td>0.0</td>\n",
       "      <td>71540.000000</td>\n",
       "      <td>2008.000000</td>\n",
       "    </tr>\n",
       "    <tr>\n",
       "      <th>max</th>\n",
       "      <td>1.000000e+08</td>\n",
       "      <td>9999.000000</td>\n",
       "      <td>17700.000000</td>\n",
       "      <td>150000.000000</td>\n",
       "      <td>12.000000</td>\n",
       "      <td>0.0</td>\n",
       "      <td>99998.000000</td>\n",
       "      <td>9999.000000</td>\n",
       "    </tr>\n",
       "  </tbody>\n",
       "</table>\n",
       "</div>"
      ],
      "text/plain": [
       "              price  registration_year      power_ps    odometer_km  \\\n",
       "count  5.000000e+04       50000.000000  50000.000000   50000.000000   \n",
       "mean   9.840044e+03        2005.073280    116.355920  125732.700000   \n",
       "std    4.811044e+05         105.712813    209.216627   40042.211706   \n",
       "min    0.000000e+00        1000.000000      0.000000    5000.000000   \n",
       "25%    1.100000e+03        1999.000000     70.000000  125000.000000   \n",
       "50%    2.950000e+03        2003.000000    105.000000  150000.000000   \n",
       "75%    7.200000e+03        2008.000000    150.000000  150000.000000   \n",
       "max    1.000000e+08        9999.000000  17700.000000  150000.000000   \n",
       "\n",
       "       registration_month  nr_of_pictures   postal_code          year  \n",
       "count        50000.000000         50000.0  50000.000000  50000.000000  \n",
       "mean             5.723360             0.0  50813.627300   2005.073280  \n",
       "std              3.711984             0.0  25779.747957    105.712813  \n",
       "min              0.000000             0.0   1067.000000   1000.000000  \n",
       "25%              3.000000             0.0  30451.000000   1999.000000  \n",
       "50%              6.000000             0.0  49577.000000   2003.000000  \n",
       "75%              9.000000             0.0  71540.000000   2008.000000  \n",
       "max             12.000000             0.0  99998.000000   9999.000000  "
      ]
     },
     "execution_count": 83,
     "metadata": {},
     "output_type": "execute_result"
    }
   ],
   "source": [
    "autos.describe()"
   ]
  },
  {
   "cell_type": "markdown",
   "metadata": {},
   "source": [
    "#### Can see that no cars have pictures so we can remove this column. Max power_ps needs to be looked at ( suspiciously high) along with max registration year. Price and Odometer columns also need to be cleaned."
   ]
  },
  {
   "cell_type": "code",
   "execution_count": 79,
   "metadata": {},
   "outputs": [],
   "source": [
    "autos['price'] = autos['price'].str.replace('$','').str.replace(',','').astype(int)\n",
    "autos['odometer'] = autos['odometer'].str.replace('km','').str.replace(',','').astype(int)\n",
    "autos.rename({'odometer':'odometer_km'}, axis = 1, inplace = True)\n",
    "autos['year'] = autos['registration_year'].astype(int)"
   ]
  },
  {
   "cell_type": "markdown",
   "metadata": {},
   "source": [
    "#### The price and odometer columns have been cleaned, now to remove outliers.\n"
   ]
  },
  {
   "cell_type": "code",
   "execution_count": 92,
   "metadata": {},
   "outputs": [
    {
     "name": "stdout",
     "output_type": "stream",
     "text": [
      "0     1421\n",
      "1      156\n",
      "2        3\n",
      "3        1\n",
      "5        2\n",
      "8        1\n",
      "9        1\n",
      "10       7\n",
      "11       2\n",
      "12       3\n",
      "Name: price, dtype: int64\n"
     ]
    }
   ],
   "source": [
    "odometer_km_value = autos['odometer_km'].unique()\n",
    "\n",
    "# odometer values look reasonable, will not remove any\n",
    "\n",
    "price_values = autos['price'].value_counts().sort_index(ascending=True).head(10)\n",
    "print(price_values)\n",
    "\n",
    "# looking at price data, the prices vary greatly, I will remove any car \n",
    "# less than $100 or more than $150,000.\n",
    "\n",
    "autos = autos[autos[\"price\"].between(100,150000)]\n",
    "\n"
   ]
  },
  {
   "cell_type": "code",
   "execution_count": 95,
   "metadata": {},
   "outputs": [],
   "source": [
    "registration_years = autos['registration_year'].unique()\n",
    "\n",
    "# some impossible years found, set limits from \n",
    "# earliest faesible year to present year.\n",
    "\n",
    "autos = autos[autos[\"registration_year\"].between(1900,2020)]\n",
    "# irregular years successfully removed\n",
    "\n",
    "# some strange horsepower values have been found in power_ps. \n",
    "# while a car may be a display car and hence have 0 power_ps, \n",
    "# it is unlikely to have 2 BHP. I will remove some irregularities.\n",
    "\n",
    "autos = autos[autos[\"power_ps\"].between(100,200000)]\n"
   ]
  },
  {
   "cell_type": "code",
   "execution_count": 105,
   "metadata": {
    "scrolled": true
   },
   "outputs": [],
   "source": [
    "autos['date_crawled'] = autos['date_crawled'].str[:10]\n",
    "date_crawled = autos['date_crawled'].value_counts(normalize = True, dropna = False).sort_index()\n",
    "autos['ad_created'] = autos['ad_created'].str[:10]\n",
    "ad_created = autos['ad_created'].value_counts(normalize = True, dropna = False).sort_index()\n",
    "autos['last_seen'] = autos['last_seen'].str[:10]\n",
    "last_seen = autos['last_seen'].value_counts(normalize = True, dropna = False).sort_index()\n",
    "\n",
    "# remove times from the timepoint columns"
   ]
  },
  {
   "cell_type": "markdown",
   "metadata": {},
   "source": [
    "### Mean Price per Brand"
   ]
  },
  {
   "cell_type": "code",
   "execution_count": 191,
   "metadata": {},
   "outputs": [],
   "source": [
    "brands = autos['brand']\n",
    "brands_distinct = brands.value_counts().index[:20]\n",
    "\n",
    "# Chosen top 20 most popular brands to look at\n",
    "\n",
    "agg_price_data = {}\n",
    "for brand in brands_distinct:\n",
    "    sum_price = sum(autos[autos['brand'] == brand]['price'])\n",
    "    brand_count = brands.value_counts()[:20][brand]\n",
    "    mean_price = sum_price/ brand_count\n",
    "    agg_price_data[brand] = int(mean_price)\n",
    "\n",
    "# most expensive car to buy is a porsch, cheapest is a fiat"
   ]
  },
  {
   "cell_type": "markdown",
   "metadata": {},
   "source": [
    "### Mean Mileage per Brand"
   ]
  },
  {
   "cell_type": "code",
   "execution_count": 192,
   "metadata": {},
   "outputs": [],
   "source": [
    "brands = autos['brand']\n",
    "brands_distinct = brands.value_counts().index[:20]\n",
    "\n",
    "# Chosen top 20 most popular brands to look at\n",
    "\n",
    "agg_mileage_data = {}\n",
    "for brand in brands_distinct:\n",
    "    sum_mileage = sum(autos[autos['brand'] == brand]['odometer_km'])\n",
    "    brand_count = brands.value_counts()[:20][brand]\n",
    "    mean_mileage = sum_mileage/ brand_count\n",
    "    agg_mileage_data[brand] = int(mean_mileage)\n",
    "    \n",
    "\n"
   ]
  },
  {
   "cell_type": "markdown",
   "metadata": {},
   "source": [
    "### New Dataframe"
   ]
  },
  {
   "cell_type": "code",
   "execution_count": 195,
   "metadata": {},
   "outputs": [
    {
     "name": "stdout",
     "output_type": "stream",
     "text": [
      "               avg_mileage  avg_price\n",
      "volkswagen          126048       8061\n",
      "bmw                 132740       8511\n",
      "mercedes_benz       130064       9517\n",
      "audi                129114       9874\n",
      "opel                128927       4226\n",
      "ford                127922       5280\n",
      "renault             128470       4016\n",
      "peugeot             124557       4433\n",
      "mazda               124102       5275\n",
      "skoda               113665       8454\n",
      "seat                120012       6763\n",
      "volvo               139164       5121\n",
      "nissan              114159       7812\n",
      "mini                 85910      11883\n",
      "alfa_romeo          132052       4112\n",
      "toyota              118722       6816\n",
      "fiat                123768       3787\n",
      "citroen             123458       5288\n",
      "porsche             101035      40325\n",
      "hyundai             110041       6983\n"
     ]
    }
   ],
   "source": [
    "mileage_data = pd.Series(agg_mileage_data)\n",
    "new_df = pd.DataFrame(mileage_data, columns = ['avg_mileage'])\n",
    "new_df['avg_price'] = pd.Series(agg_price_data)\n",
    "print(new_df)\n",
    "\n",
    "# Created new df from calculated values"
   ]
  }
 ],
 "metadata": {
  "kernelspec": {
   "display_name": "Python 3",
   "language": "python",
   "name": "python3"
  },
  "language_info": {
   "codemirror_mode": {
    "name": "ipython",
    "version": 3
   },
   "file_extension": ".py",
   "mimetype": "text/x-python",
   "name": "python",
   "nbconvert_exporter": "python",
   "pygments_lexer": "ipython3",
   "version": "3.8.2"
  }
 },
 "nbformat": 4,
 "nbformat_minor": 2
}
