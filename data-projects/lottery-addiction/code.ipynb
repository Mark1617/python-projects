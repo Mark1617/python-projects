{
 "cells": [
  {
   "cell_type": "markdown",
   "metadata": {},
   "source": [
    "# Mobile App for Lottery Addiction"
   ]
  },
  {
   "cell_type": "markdown",
   "metadata": {},
   "source": [
    "#### Many people play the lottery for fun, but for some this becomes an unhealthy habit which can potentially lead to desperate criminal activity to feed the addiction. A medical institute has hired my team to build a dedicated mobile app that can help lottery addicts better estimate their chances of winning, seeing a more realistic chance than the optimistic one they commonly percieve.\n",
    "\n",
    "### My job will be to create the logical core for the app, calculating the probabilities. I'll focus on the 6/49 lottery and make the logic for users to answer questions like:\n",
    "#### - What is the probability of winning the big prize with a single ticket?\n",
    "#### - What is the probability of winning the big prize if we play 40 different tickets (or any other number)?\n",
    "#### - What is the probability of having at least five (or four, or three, or two) winning numbers on a single ticket?\n",
    "\n",
    "#### The dataset I will work with is historical data from the 6/49 national lottery game in Canada, it has over 3665 drawings dating from 1982 to 2018. \n",
    "\n",
    "##### (This project addresses a fictional scenario, the purpose is to utilise and practice my statistical knowledge)\n",
    "\n"
   ]
  },
  {
   "cell_type": "markdown",
   "metadata": {},
   "source": [
    "### Core Functions\n",
    "\n",
    "#### Make the statistical functions I'll need through the project\n"
   ]
  },
  {
   "cell_type": "code",
   "execution_count": 17,
   "metadata": {
    "collapsed": true
   },
   "outputs": [],
   "source": [
    "import math\n",
    "\n",
    "def factorial(n):\n",
    "    final_product = 1\n",
    "    for i in range(n, 0, -1):\n",
    "        final_product *= i\n",
    "    return final_product\n",
    "\n",
    "# Number of combinations when sampling without replacement and taking only k objects from a group of n objects.\n",
    "def combinations(n,k):\n",
    "    permutation = factorial(n)/factorial(n-k)\n",
    "    \n",
    "    return permutation/factorial(k)\n"
   ]
  },
  {
   "cell_type": "markdown",
   "metadata": {},
   "source": [
    "#### I need to create a function that calculates the probability of winning for any 6 number input, which then prints out a clear and easy to understand message for the user. I have been told to be aware of the following details when creating the function:\n",
    "####  - Inside the app, the user inputs six different numbers from 1 to 49.\n",
    "####  - Under the hood, the six numbers will come as a Python list, which will serve as the single input to our function.\n",
    "####  - The engineering team wants the function to print the probability value in a friendly way — in a way that people without any probability training are able to understand."
   ]
  },
  {
   "cell_type": "code",
   "execution_count": 39,
   "metadata": {
    "collapsed": false
   },
   "outputs": [],
   "source": [
    "def one_ticket_probability(numbers):\n",
    "    \n",
    "    # Error handling for input\n",
    "    error_message = 'This was not valid input for this function. Please enter a list of 6 numbers between 1 and 49.'\n",
    "    if not isinstance(numbers, list):\n",
    "        raise TypeError(error_message)\n",
    "    elif len(numbers) != 6:\n",
    "        raise TypeError(error_message)\n",
    "    for i in numbers:\n",
    "        if (not isinstance(i, int)) or (i > 49) or (i < 0):\n",
    "            raise TypeError(error_message)\n",
    "            \n",
    "    # Calculate number of possible combinations for a six-numbers lottery ticket\n",
    "    c = combinations(49, 6)\n",
    "    \n",
    "    prob_win = 1 / c\n",
    "    percent_win = prob_win * 100\n",
    "    \n",
    "    # Print an easy to understand message with the calculated values and input numbers\n",
    "    print(\"Your calculated chance of winning with the numbers {} are {:0.5f}%. In other words 1 in {}\".format(numbers, percent_win,\n",
    "                                                                                                               round(c)))\n",
    "    return 1\n",
    "    "
   ]
  },
  {
   "cell_type": "code",
   "execution_count": 64,
   "metadata": {
    "collapsed": false
   },
   "outputs": [
    {
     "name": "stdout",
     "output_type": "stream",
     "text": [
      "Your calculated chance of winning with the numbers [23, 26, 2, 35, 16, 42] are 0.00001%. In other words 1 in 13983816\n"
     ]
    },
    {
     "data": {
      "text/plain": [
       "1"
      ]
     },
     "execution_count": 64,
     "metadata": {},
     "output_type": "execute_result"
    }
   ],
   "source": [
    "# Quick test for the function.\n",
    "\n",
    "user_inputs = [23, 26, 2, 35, 16, 42]\n",
    "\n",
    "one_ticket_probability(user_inputs)\n",
    "# one_ticket_probability([1,50,3,4,5,6])\n",
    "# one_ticket_probability([1,2,3,4])\n",
    "# one_ticket_probability('random string')"
   ]
  },
  {
   "cell_type": "markdown",
   "metadata": {},
   "source": [
    "### Historical Data Check for Canada Lottery\n",
    "\n",
    "#### We need to explore the historical data coming from the Canada 6/49 lottery. The data can be found on kaggle here (https://www.kaggle.com/datasets/datascienceai/lottery-dataset). It contains data from 3665 drawings between 1982 and 2018. Here we will open and explore the dataset a little using pandas."
   ]
  },
  {
   "cell_type": "code",
   "execution_count": 51,
   "metadata": {
    "collapsed": false
   },
   "outputs": [
    {
     "name": "stdout",
     "output_type": "stream",
     "text": [
      "<class 'pandas.core.frame.DataFrame'>\n",
      "RangeIndex: 3665 entries, 0 to 3664\n",
      "Data columns (total 11 columns):\n",
      "PRODUCT            3665 non-null int64\n",
      "DRAW NUMBER        3665 non-null int64\n",
      "SEQUENCE NUMBER    3665 non-null int64\n",
      "DRAW DATE          3665 non-null object\n",
      "NUMBER DRAWN 1     3665 non-null int64\n",
      "NUMBER DRAWN 2     3665 non-null int64\n",
      "NUMBER DRAWN 3     3665 non-null int64\n",
      "NUMBER DRAWN 4     3665 non-null int64\n",
      "NUMBER DRAWN 5     3665 non-null int64\n",
      "NUMBER DRAWN 6     3665 non-null int64\n",
      "BONUS NUMBER       3665 non-null int64\n",
      "dtypes: int64(10), object(1)\n",
      "memory usage: 315.0+ KB\n"
     ]
    }
   ],
   "source": [
    "import pandas as pd\n",
    "\n",
    "lottery_legacy = pd.read_csv('649.csv')\n",
    "lottery_legacy.info()"
   ]
  },
  {
   "cell_type": "code",
   "execution_count": 53,
   "metadata": {
    "collapsed": false
   },
   "outputs": [
    {
     "data": {
      "text/html": [
       "<div>\n",
       "<style scoped>\n",
       "    .dataframe tbody tr th:only-of-type {\n",
       "        vertical-align: middle;\n",
       "    }\n",
       "\n",
       "    .dataframe tbody tr th {\n",
       "        vertical-align: top;\n",
       "    }\n",
       "\n",
       "    .dataframe thead th {\n",
       "        text-align: right;\n",
       "    }\n",
       "</style>\n",
       "<table border=\"1\" class=\"dataframe\">\n",
       "  <thead>\n",
       "    <tr style=\"text-align: right;\">\n",
       "      <th></th>\n",
       "      <th>PRODUCT</th>\n",
       "      <th>DRAW NUMBER</th>\n",
       "      <th>SEQUENCE NUMBER</th>\n",
       "      <th>DRAW DATE</th>\n",
       "      <th>NUMBER DRAWN 1</th>\n",
       "      <th>NUMBER DRAWN 2</th>\n",
       "      <th>NUMBER DRAWN 3</th>\n",
       "      <th>NUMBER DRAWN 4</th>\n",
       "      <th>NUMBER DRAWN 5</th>\n",
       "      <th>NUMBER DRAWN 6</th>\n",
       "      <th>BONUS NUMBER</th>\n",
       "    </tr>\n",
       "  </thead>\n",
       "  <tbody>\n",
       "    <tr>\n",
       "      <th>0</th>\n",
       "      <td>649</td>\n",
       "      <td>1</td>\n",
       "      <td>0</td>\n",
       "      <td>6/12/1982</td>\n",
       "      <td>3</td>\n",
       "      <td>11</td>\n",
       "      <td>12</td>\n",
       "      <td>14</td>\n",
       "      <td>41</td>\n",
       "      <td>43</td>\n",
       "      <td>13</td>\n",
       "    </tr>\n",
       "    <tr>\n",
       "      <th>1</th>\n",
       "      <td>649</td>\n",
       "      <td>2</td>\n",
       "      <td>0</td>\n",
       "      <td>6/19/1982</td>\n",
       "      <td>8</td>\n",
       "      <td>33</td>\n",
       "      <td>36</td>\n",
       "      <td>37</td>\n",
       "      <td>39</td>\n",
       "      <td>41</td>\n",
       "      <td>9</td>\n",
       "    </tr>\n",
       "    <tr>\n",
       "      <th>2</th>\n",
       "      <td>649</td>\n",
       "      <td>3</td>\n",
       "      <td>0</td>\n",
       "      <td>6/26/1982</td>\n",
       "      <td>1</td>\n",
       "      <td>6</td>\n",
       "      <td>23</td>\n",
       "      <td>24</td>\n",
       "      <td>27</td>\n",
       "      <td>39</td>\n",
       "      <td>34</td>\n",
       "    </tr>\n",
       "  </tbody>\n",
       "</table>\n",
       "</div>"
      ],
      "text/plain": [
       "   PRODUCT  DRAW NUMBER  SEQUENCE NUMBER  DRAW DATE  NUMBER DRAWN 1  \\\n",
       "0      649            1                0  6/12/1982               3   \n",
       "1      649            2                0  6/19/1982               8   \n",
       "2      649            3                0  6/26/1982               1   \n",
       "\n",
       "   NUMBER DRAWN 2  NUMBER DRAWN 3  NUMBER DRAWN 4  NUMBER DRAWN 5  \\\n",
       "0              11              12              14              41   \n",
       "1              33              36              37              39   \n",
       "2               6              23              24              27   \n",
       "\n",
       "   NUMBER DRAWN 6  BONUS NUMBER  \n",
       "0              43            13  \n",
       "1              41             9  \n",
       "2              39            34  "
      ]
     },
     "execution_count": 53,
     "metadata": {},
     "output_type": "execute_result"
    }
   ],
   "source": [
    "lottery_legacy.head(3)"
   ]
  },
  {
   "cell_type": "code",
   "execution_count": 54,
   "metadata": {
    "collapsed": false
   },
   "outputs": [
    {
     "data": {
      "text/html": [
       "<div>\n",
       "<style scoped>\n",
       "    .dataframe tbody tr th:only-of-type {\n",
       "        vertical-align: middle;\n",
       "    }\n",
       "\n",
       "    .dataframe tbody tr th {\n",
       "        vertical-align: top;\n",
       "    }\n",
       "\n",
       "    .dataframe thead th {\n",
       "        text-align: right;\n",
       "    }\n",
       "</style>\n",
       "<table border=\"1\" class=\"dataframe\">\n",
       "  <thead>\n",
       "    <tr style=\"text-align: right;\">\n",
       "      <th></th>\n",
       "      <th>PRODUCT</th>\n",
       "      <th>DRAW NUMBER</th>\n",
       "      <th>SEQUENCE NUMBER</th>\n",
       "      <th>DRAW DATE</th>\n",
       "      <th>NUMBER DRAWN 1</th>\n",
       "      <th>NUMBER DRAWN 2</th>\n",
       "      <th>NUMBER DRAWN 3</th>\n",
       "      <th>NUMBER DRAWN 4</th>\n",
       "      <th>NUMBER DRAWN 5</th>\n",
       "      <th>NUMBER DRAWN 6</th>\n",
       "      <th>BONUS NUMBER</th>\n",
       "    </tr>\n",
       "  </thead>\n",
       "  <tbody>\n",
       "    <tr>\n",
       "      <th>3662</th>\n",
       "      <td>649</td>\n",
       "      <td>3589</td>\n",
       "      <td>0</td>\n",
       "      <td>6/13/2018</td>\n",
       "      <td>6</td>\n",
       "      <td>22</td>\n",
       "      <td>24</td>\n",
       "      <td>31</td>\n",
       "      <td>32</td>\n",
       "      <td>34</td>\n",
       "      <td>16</td>\n",
       "    </tr>\n",
       "    <tr>\n",
       "      <th>3663</th>\n",
       "      <td>649</td>\n",
       "      <td>3590</td>\n",
       "      <td>0</td>\n",
       "      <td>6/16/2018</td>\n",
       "      <td>2</td>\n",
       "      <td>15</td>\n",
       "      <td>21</td>\n",
       "      <td>31</td>\n",
       "      <td>38</td>\n",
       "      <td>49</td>\n",
       "      <td>8</td>\n",
       "    </tr>\n",
       "    <tr>\n",
       "      <th>3664</th>\n",
       "      <td>649</td>\n",
       "      <td>3591</td>\n",
       "      <td>0</td>\n",
       "      <td>6/20/2018</td>\n",
       "      <td>14</td>\n",
       "      <td>24</td>\n",
       "      <td>31</td>\n",
       "      <td>35</td>\n",
       "      <td>37</td>\n",
       "      <td>48</td>\n",
       "      <td>17</td>\n",
       "    </tr>\n",
       "  </tbody>\n",
       "</table>\n",
       "</div>"
      ],
      "text/plain": [
       "      PRODUCT  DRAW NUMBER  SEQUENCE NUMBER  DRAW DATE  NUMBER DRAWN 1  \\\n",
       "3662      649         3589                0  6/13/2018               6   \n",
       "3663      649         3590                0  6/16/2018               2   \n",
       "3664      649         3591                0  6/20/2018              14   \n",
       "\n",
       "      NUMBER DRAWN 2  NUMBER DRAWN 3  NUMBER DRAWN 4  NUMBER DRAWN 5  \\\n",
       "3662              22              24              31              32   \n",
       "3663              15              21              31              38   \n",
       "3664              24              31              35              37   \n",
       "\n",
       "      NUMBER DRAWN 6  BONUS NUMBER  \n",
       "3662              34            16  \n",
       "3663              49             8  \n",
       "3664              48            17  "
      ]
     },
     "execution_count": 54,
     "metadata": {},
     "output_type": "execute_result"
    }
   ],
   "source": [
    "lottery_legacy.tail(3)"
   ]
  },
  {
   "cell_type": "markdown",
   "metadata": {},
   "source": [
    "#### It looks like the data is correct, it contains 3665 entries with 6 drawn number columns and an additional bonus number column, with entries dating from 6/12/1982 - 6/13/2018 (be aware this is the American date format)."
   ]
  },
  {
   "cell_type": "markdown",
   "metadata": {},
   "source": [
    "### Function for Historical Data Check\n",
    "\n",
    "#### Here I'll write a function that will let users compare their ticket against the historical lottery data in Canada and determine whether they would have ever won by now. The engineering team wants us to output a print that displays the numbers of times the combination selected occurred in the Canada data set, along with the probability of winning the big prize in the next drawing with that combination."
   ]
  },
  {
   "cell_type": "code",
   "execution_count": 62,
   "metadata": {
    "collapsed": false
   },
   "outputs": [
    {
     "data": {
      "text/plain": [
       "0    {3, 41, 11, 12, 43, 14}\n",
       "1    {33, 36, 37, 39, 8, 41}\n",
       "2     {1, 6, 39, 23, 24, 27}\n",
       "3     {3, 9, 10, 43, 13, 20}\n",
       "4    {34, 5, 14, 47, 21, 31}\n",
       "dtype: object"
      ]
     },
     "execution_count": 62,
     "metadata": {},
     "output_type": "execute_result"
    }
   ],
   "source": [
    "# This will convert each row into a set with all the winning numbers\n",
    "def extract_numbers(row):\n",
    "    row = row[4:10]\n",
    "    return set(row.values)\n",
    "\n",
    "# Applies the function to each data set row\n",
    "winning_numbers = lottery_legacy.apply(extract_numbers, axis=1)\n",
    "winning_numbers.head()"
   ]
  },
  {
   "cell_type": "markdown",
   "metadata": {},
   "source": [
    "#### Here I'll create a function that checks the previous series of winning numbers found by the extract_numbers function against the users numbers and returns a comment based on the number of matches. "
   ]
  },
  {
   "cell_type": "code",
   "execution_count": 68,
   "metadata": {
    "collapsed": true
   },
   "outputs": [],
   "source": [
    "def check_historical_occurence(input_numbers, series):\n",
    "    \n",
    "    user_numbers = set(input_numbers)\n",
    "    \n",
    "    # Make list of bools for match/no-match\n",
    "    match_check = user_numbers == winning_numbers\n",
    "    # Count the number of matches\n",
    "    match_count = match_check.sum()\n",
    "    \n",
    "    if match_count == 1:\n",
    "        print('Your numbers have come up once in the past, this does not change the probability of them coming up again. The chances of you winning today are less than 0.00001%, or more specifically 1 in 13,983,816.')\n",
    "    elif match_count > 1:\n",
    "        print('Your numbers have come up {} times in the past, these wins do not change the probability of them coming up again. The chances of you winning today are less than 0.00001%, or more specifically 1 in 13,983,816.'.format(match_count))\n",
    "    else:\n",
    "        print('Your numbers have not come up in the past, this does not change the probability of them coming up again. The chances of you winning today are less than 0.00001%, or more specifically 1 in 13,983,816.')\n",
    "    \n",
    "    return 1"
   ]
  },
  {
   "cell_type": "code",
   "execution_count": 69,
   "metadata": {
    "collapsed": false
   },
   "outputs": [
    {
     "name": "stdout",
     "output_type": "stream",
     "text": [
      "Your numbers have not come up in the past, this does not change the probability of them coming up again. The chances of you winning today are less than 0.00001%, or more specifically 1 in 13,983,816.\n"
     ]
    },
    {
     "data": {
      "text/plain": [
       "1"
      ]
     },
     "execution_count": 69,
     "metadata": {},
     "output_type": "execute_result"
    }
   ],
   "source": [
    "# Quick test for the function.\n",
    "\n",
    "check_historical_occurence(user_inputs, winning_numbers)"
   ]
  },
  {
   "cell_type": "markdown",
   "metadata": {},
   "source": [
    "### Multi-ticket Probability"
   ]
  },
  {
   "cell_type": "markdown",
   "metadata": {},
   "source": [
    "#### Lottery addicts commonly play many tickets on one drawing under the illusion that this will increase their chances of winning. Here I will write a function that calculate the chances of winning for any number of different tickets.\n",
    "\n",
    "#### I have the following instructions:\n",
    "#### - The user will input the number of different tickets they want to play (without inputting the specific combinations they intend to play).\n",
    "#### - Our function will see an integer between 1 and 13,983,816 (the maximum number of different tickets).\n",
    "#### - The function should print information about the probability of winning the big prize depending on the number of different tickets played."
   ]
  },
  {
   "cell_type": "code",
   "execution_count": 84,
   "metadata": {
    "collapsed": true
   },
   "outputs": [],
   "source": [
    "def multi_ticket_probability(n):\n",
    "    # Calculate the total number of possible winning outcomes\n",
    "    c = combinations(49,6)\n",
    "    # Probability of winning\n",
    "    p = n / c\n",
    "    percent_win = p * 100\n",
    "    \n",
    "    # Print an easy to understand message with the calculated values and input numbers\n",
    "    if n > 1 and n <= 1000000:\n",
    "        print(\"Your calculated chance of winning with {} lottery tickets is {:0.5f}%. In other words {} in {}\".format(n, percent_win, n, round(c)))\n",
    "    elif n > 1000000: \n",
    "        print(\"Your calculated chance of winning with one lottery ticket is {:0.1f}%. In other words {} in {}\".format(percent_win, n, round(c)))                                                                                                         \n",
    "    \n",
    "    return 1\n",
    "    "
   ]
  },
  {
   "cell_type": "code",
   "execution_count": 86,
   "metadata": {
    "collapsed": false
   },
   "outputs": [
    {
     "name": "stdout",
     "output_type": "stream",
     "text": [
      "Your calculated chance of winning with 100000 lottery tickets is 0.71511%. In other words 100000 in 13983816\n"
     ]
    },
    {
     "data": {
      "text/plain": [
       "1"
      ]
     },
     "execution_count": 86,
     "metadata": {},
     "output_type": "execute_result"
    }
   ],
   "source": [
    "multi_ticket_probability(100000)"
   ]
  },
  {
   "cell_type": "markdown",
   "metadata": {},
   "source": [
    "### Less Winning Numbers\n",
    "\n",
    "#### In most 6/49 lotteries there are smaller prizes if a players ticket matches more than two of the numbers shown. Therefore the user may be interested in knowing the probability of knowing the probability of having two, three, four or five winning numbers.\n",
    "\n",
    "#### I will therefore make a function that will make this possible, I have been given the following instructions:\n",
    "#### The user inputs six different numbers from 1 to 49 and an integer between 2 and 5 that represents the number of winning numbers expected.\n",
    "#### Our function prints information about the probability of having the inputted number of winning numbers."
   ]
  },
  {
   "cell_type": "code",
   "execution_count": 108,
   "metadata": {
    "collapsed": true
   },
   "outputs": [],
   "source": [
    "def probability_less_6(n):\n",
    "    \n",
    "    # Error handling to make sure input is correct\n",
    "    error_message = 'The input for this function must be between an integer 2 and 5.'\n",
    "    if n > 5 or n < 2 or not isinstance(n, int):\n",
    "        raise TypeError(error_message)\n",
    "        \n",
    "    # Find the n-number combinations out of the chosen six numbers that can potentially win.\n",
    "    matching_n = combinations(6,n)\n",
    "    # Find the (6-n) number combinations for the other digits that don't match any drawn nos.\n",
    "    # It's 43 to exclude the anymore matching digits, we want exactly n not at least n matches.\n",
    "    non_matching_n = combinations(43, 6 - n)\n",
    "    # Can have any combination of non-matching n for each combination of matching n.\n",
    "    successful_n_matches = matching_n * non_matching_n\n",
    "    \n",
    "    total_c = combinations(49, 6)\n",
    "    p_nmatches = successful_n_matches / total_c\n",
    "    \n",
    "    percent_nmatches = p_nmatches * 100\n",
    "    \n",
    "    # Print an easy to understand message with the calculated values and input numbers\n",
    "    print(\"Your calculated chance of winning with {} matching number(s) is {:0.5f}%. In other words 1 in {:0.0f}\"\n",
    "          .format(n, percent_nmatches, 1/p_nmatches))\n",
    "                                                  \n",
    "    return 1\n",
    "           \n",
    "        "
   ]
  },
  {
   "cell_type": "code",
   "execution_count": 109,
   "metadata": {
    "collapsed": false
   },
   "outputs": [
    {
     "name": "stdout",
     "output_type": "stream",
     "text": [
      "Your calculated chance of winning with 2 matching number(s) is 13.23780%. In other words 1 in 8\n",
      "--------------------------\n",
      "Your calculated chance of winning with 3 matching number(s) is 1.76504%. In other words 1 in 57\n",
      "--------------------------\n",
      "Your calculated chance of winning with 4 matching number(s) is 0.09686%. In other words 1 in 1032\n",
      "--------------------------\n",
      "Your calculated chance of winning with 5 matching number(s) is 0.00184%. In other words 1 in 54201\n",
      "--------------------------\n"
     ]
    }
   ],
   "source": [
    "for i in [2, 3, 4, 5]:\n",
    "    probability_less_6(i)\n",
    "    print('--------------------------')"
   ]
  },
  {
   "cell_type": "markdown",
   "metadata": {},
   "source": [
    "#### Here I have provided a way to calculate the probability of having any number of matches out of the 6 chosen numbers."
   ]
  },
  {
   "cell_type": "code",
   "execution_count": null,
   "metadata": {
    "collapsed": true
   },
   "outputs": [],
   "source": []
  }
 ],
 "metadata": {
  "kernelspec": {
   "display_name": "Python 3",
   "language": "python",
   "name": "python3"
  },
  "language_info": {
   "codemirror_mode": {
    "name": "ipython",
    "version": 3
   },
   "file_extension": ".py",
   "mimetype": "text/x-python",
   "name": "python",
   "nbconvert_exporter": "python",
   "pygments_lexer": "ipython3",
   "version": "3.4.3"
  }
 },
 "nbformat": 4,
 "nbformat_minor": 2
}
